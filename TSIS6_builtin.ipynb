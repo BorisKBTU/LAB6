{
 "cells": [
  {
   "cell_type": "code",
   "execution_count": 4,
   "metadata": {
    "collapsed": true
   },
   "outputs": [
    {
     "name": "stdout",
     "output_type": "stream",
     "text": [
      "362880\n"
     ]
    }
   ],
   "source": [
    "sample_list = [1, 2, 3, 4, 5, 6, 7, 8, 9]\n",
    "total = 1\n",
    "\n",
    "for i in sample_list:\n",
    "    total *= i\n",
    "\n",
    "print(total)"
   ]
  },
  {
   "cell_type": "code",
   "execution_count": 6,
   "outputs": [
    {
     "name": "stdout",
     "output_type": "stream",
     "text": [
      "Number of uppercase letters: 8\n",
      "Number of lowercase letters: 14\n"
     ]
    }
   ],
   "source": [
    "string_sample=input()\n",
    "splitted_string=[i for i in string_sample]\n",
    "upper_case,lower_case=list(filter(lambda x:x.isupper(),splitted_string)),list(filter(lambda x:x.islower(),splitted_string))\n",
    "print(f'Number of uppercase letters: {len(upper_case)}')\n",
    "print(f'Number of lowercase letters: {len(lower_case)}')"
   ],
   "metadata": {
    "collapsed": false
   }
  },
  {
   "cell_type": "code",
   "execution_count": 9,
   "outputs": [
    {
     "name": "stdout",
     "output_type": "stream",
     "text": [
      "This string is not palindrome\n"
     ]
    }
   ],
   "source": [
    "palindrome_string=input()\n",
    "print('This string is palindrome' if palindrome_string==palindrome_string[::-1] else 'This string is not palindrome')"
   ],
   "metadata": {
    "collapsed": false
   }
  },
  {
   "cell_type": "code",
   "execution_count": 12,
   "outputs": [
    {
     "name": "stdout",
     "output_type": "stream",
     "text": [
      "Square root of 25100 after 2323 miliseconds is 158.42979517754858\n"
     ]
    }
   ],
   "source": [
    "number = input()\n",
    "milliseconds=input()\n",
    "print(f'Square root of {number} after {milliseconds} miliseconds is {float(number)**(1/2)}')"
   ],
   "metadata": {
    "collapsed": false
   }
  },
  {
   "cell_type": "code",
   "execution_count": 14,
   "outputs": [
    {
     "name": "stdout",
     "output_type": "stream",
     "text": [
      "True\n",
      "False\n"
     ]
    }
   ],
   "source": [
    "def check_tuple(tupl):\n",
    "    filtered_tuple=tuple(filter(lambda x:x is False,tupl))\n",
    "    return len(filtered_tuple)==0\n",
    "example_tuple=(True,True,True,True,True,True,True)\n",
    "print(check_tuple(example_tuple))\n",
    "example_tuple=(True,True,True,True,False,True,True)\n",
    "print(check_tuple(example_tuple))"
   ],
   "metadata": {
    "collapsed": false
   }
  },
  {
   "cell_type": "code",
   "execution_count": null,
   "outputs": [],
   "source": [],
   "metadata": {
    "collapsed": false
   }
  }
 ],
 "metadata": {
  "kernelspec": {
   "display_name": "Python 3",
   "language": "python",
   "name": "python3"
  },
  "language_info": {
   "codemirror_mode": {
    "name": "ipython",
    "version": 2
   },
   "file_extension": ".py",
   "mimetype": "text/x-python",
   "name": "python",
   "nbconvert_exporter": "python",
   "pygments_lexer": "ipython2",
   "version": "2.7.6"
  }
 },
 "nbformat": 4,
 "nbformat_minor": 0
}
