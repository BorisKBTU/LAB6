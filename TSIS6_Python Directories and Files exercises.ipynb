{
 "cells": [
  {
   "cell_type": "code",
   "execution_count": 103,
   "metadata": {
    "collapsed": true
   },
   "outputs": [],
   "source": [
    "import os"
   ]
  },
  {
   "cell_type": "code",
   "execution_count": 104,
   "outputs": [],
   "source": [
    "class Lister:\n",
    "    def __init__(self,path):\n",
    "        self.path=path\n",
    "    def directories_lister(self):\n",
    "        directories_list=[directory for directory in os.listdir(self.path) if os.path.isdir(os.path.join(self.path, directory))]\n",
    "        print(f'Directories in your path: {directories_list}')\n",
    "    def files_list(self):\n",
    "        files_list=[file for file in os.listdir(self.path) if os.path.isfile(os.path.join(self.path, file))]\n",
    "        print(f'Files in your path: {files_list}')\n",
    "    def directories_and_files_lister(self):\n",
    "        all_things=os.listdir()\n",
    "        print(f'Directories and files in this path: {all_things}')"
   ],
   "metadata": {
    "collapsed": false
   }
  },
  {
   "cell_type": "code",
   "execution_count": 105,
   "outputs": [
    {
     "name": "stdout",
     "output_type": "stream",
     "text": [
      "Directories and files in this path: ['.idea', 'check', 'check.py', 'da', 'from.txt', 'list.txt', 'text.txt', 'to.txt', 'to_delete', 'TSIS6_builtin.ipynb', 'TSIS6_Python Directories and Files exercises.ipynb', 'venv']\n",
      "Files in your path: ['check.py', 'da', 'from.txt', 'list.txt', 'text.txt', 'to.txt', 'to_delete', 'TSIS6_builtin.ipynb', 'TSIS6_Python Directories and Files exercises.ipynb']\n",
      "Directories in your path: ['.idea', 'check', 'venv']\n"
     ]
    }
   ],
   "source": [
    "lister=Lister(path='./')\n",
    "lister.directories_and_files_lister()\n",
    "lister.files_list()\n",
    "lister.directories_lister()"
   ],
   "metadata": {
    "collapsed": false
   }
  },
  {
   "cell_type": "code",
   "execution_count": 109,
   "outputs": [],
   "source": [
    "class Checker:\n",
    "    def __init__(self,path):\n",
    "        self.path=path\n",
    "    def check_access(self):\n",
    "        print('file exists' if os.path.exists(self.path) else 'file does not exist')\n",
    "        print('file is readable' if os.access(self.path,os.R_OK) else 'file is not readable')\n",
    "        print('file is writable' if os.access(self.path,os.W_OK) else 'file is not writable')\n",
    "        print('file is executable' if os.access(self.path,os.X_OK) else 'file is not executable')\n",
    "        if isinstance(self,Deleter):\n",
    "            return os.access(self.path,os.R_OK) and os.access(self.path,os.W_OK) and os.access(self.path,os.X_OK) and os.path.exists(self.path)"
   ],
   "metadata": {
    "collapsed": false
   }
  },
  {
   "cell_type": "code",
   "execution_count": 110,
   "outputs": [
    {
     "name": "stdout",
     "output_type": "stream",
     "text": [
      "file exists\n",
      "file is readable\n",
      "file is writable\n",
      "file is executable\n",
      "\n",
      "file does not exist\n",
      "file is not readable\n",
      "file is not writable\n",
      "file is not executable\n"
     ]
    }
   ],
   "source": [
    "checker=Checker(path='check.py')\n",
    "checker.check_access()\n",
    "print()\n",
    "not_existing=Checker(path='net.py')\n",
    "not_existing.check_access()"
   ],
   "metadata": {
    "collapsed": false
   }
  },
  {
   "cell_type": "code",
   "execution_count": 111,
   "outputs": [],
   "source": [
    "class PathChecker(Lister):\n",
    "    def __init__(self, path):\n",
    "        super().__init__(path)\n",
    "        self.path=path\n",
    "    def check_for_existence(self):\n",
    "        existence=os.path.exists(self.path)\n",
    "        if existence:\n",
    "            self.files_list()\n",
    "            self.directories_lister()\n",
    "        else:\n",
    "            print(f'Given path {self.path} does not exist')"
   ],
   "metadata": {
    "collapsed": false
   }
  },
  {
   "cell_type": "code",
   "execution_count": 112,
   "outputs": [
    {
     "name": "stdout",
     "output_type": "stream",
     "text": [
      "Files in your path: ['file_to_find']\n",
      "Directories in your path: ['directory_to_find']\n"
     ]
    }
   ],
   "source": [
    "path_checker=PathChecker(path='./check/')\n",
    "path_checker.check_for_existence()"
   ],
   "metadata": {
    "collapsed": false
   }
  },
  {
   "cell_type": "code",
   "execution_count": 113,
   "outputs": [],
   "source": [
    "class LinesCounter:\n",
    "    def __init__(self,path):\n",
    "        self.path=path\n",
    "    def count_lines(self):\n",
    "        with open(self.path,'r') as file:\n",
    "            lines=file.readlines()\n",
    "        print(f'Number of lines in given file: {len(lines)}')"
   ],
   "metadata": {
    "collapsed": false
   }
  },
  {
   "cell_type": "code",
   "execution_count": 114,
   "outputs": [
    {
     "name": "stdout",
     "output_type": "stream",
     "text": [
      "Number of lines in given file: 12\n"
     ]
    }
   ],
   "source": [
    "lines_counter=LinesCounter(path='./text.txt')\n",
    "lines_counter.count_lines()"
   ],
   "metadata": {
    "collapsed": false
   }
  },
  {
   "cell_type": "code",
   "execution_count": 135,
   "outputs": [],
   "source": [
    "class ListWriter:\n",
    "    def __init__(self,path_to_write,given_list):\n",
    "        self.path_to_write=path_to_write\n",
    "        self.list=given_list\n",
    "    def write_list(self):\n",
    "        with open(self.path_to_write,'wt') as file:\n",
    "            file.write(f\"[{', '.join([str(i) for i in self.list])}]\")\n",
    "        print('Done')"
   ],
   "metadata": {
    "collapsed": false
   }
  },
  {
   "cell_type": "code",
   "execution_count": 136,
   "outputs": [
    {
     "name": "stdout",
     "output_type": "stream",
     "text": [
      "Done\n"
     ]
    }
   ],
   "source": [
    "list_writer=ListWriter(path_to_write='./list.txt',given_list=[1,2,3,9,5,6,7,8,9])\n",
    "list_writer.write_list()"
   ],
   "metadata": {
    "collapsed": false
   }
  },
  {
   "cell_type": "code",
   "execution_count": 141,
   "outputs": [],
   "source": [
    "import string\n",
    "class FileGenerator:\n",
    "    def __init__(self):\n",
    "        self.ascii_letters=string.ascii_letters.upper()\n",
    "    def create_alphabet_files(self):\n",
    "        for i in self.ascii_letters:\n",
    "            with open(f'{i}.txt','wt') as file:\n",
    "                pass\n",
    "    def remove_files(self):\n",
    "        for i in self.ascii_letters:\n",
    "            if f'{i}.txt' in os.listdir():\n",
    "                os.remove(f'{i}.txt')"
   ],
   "metadata": {
    "collapsed": false
   }
  },
  {
   "cell_type": "code",
   "execution_count": 142,
   "outputs": [],
   "source": [
    "generator=FileGenerator()\n",
    "generator.create_alphabet_files()\n",
    "generator.remove_files()"
   ],
   "metadata": {
    "collapsed": false
   }
  },
  {
   "cell_type": "code",
   "execution_count": 143,
   "outputs": [],
   "source": [
    "class Copy:\n",
    "    def __init__(self,from_path,to_path):\n",
    "        self.from_path=from_path\n",
    "        self.to_path=to_path\n",
    "    def copy_content(self):\n",
    "        with open(self.from_path,'r') as file:\n",
    "            read_information=''.join(file.readlines())\n",
    "            with open(self.to_path,'wt') as to_file:\n",
    "                to_file.write(read_information)\n",
    "        print(f'Information from {self.from_path} copied to {self.to_path}')"
   ],
   "metadata": {
    "collapsed": false
   }
  },
  {
   "cell_type": "code",
   "execution_count": 144,
   "outputs": [
    {
     "name": "stdout",
     "output_type": "stream",
     "text": [
      "Information from from.txt copied to to.txt\n"
     ]
    }
   ],
   "source": [
    "copy_writer=Copy(from_path='from.txt',to_path='to.txt')\n",
    "copy_writer.copy_content()"
   ],
   "metadata": {
    "collapsed": false
   }
  },
  {
   "cell_type": "code",
   "execution_count": 147,
   "outputs": [],
   "source": [
    "class Deleter(Checker):\n",
    "    def __init__(self,path):\n",
    "        super().__init__(path)\n",
    "        self.path=path\n",
    "    def delete_file(self):\n",
    "        if self.check_access():\n",
    "            os.remove(self.path)"
   ],
   "metadata": {
    "collapsed": false
   }
  },
  {
   "cell_type": "code",
   "execution_count": 148,
   "outputs": [
    {
     "name": "stdout",
     "output_type": "stream",
     "text": [
      "file exists\n",
      "file is readable\n",
      "file is writable\n",
      "file is executable\n"
     ]
    }
   ],
   "source": [
    "deleter=Deleter(path='./to_delete')\n",
    "deleter.delete_file()"
   ],
   "metadata": {
    "collapsed": false
   }
  }
 ],
 "metadata": {
  "kernelspec": {
   "display_name": "Python 3",
   "language": "python",
   "name": "python3"
  },
  "language_info": {
   "codemirror_mode": {
    "name": "ipython",
    "version": 2
   },
   "file_extension": ".py",
   "mimetype": "text/x-python",
   "name": "python",
   "nbconvert_exporter": "python",
   "pygments_lexer": "ipython2",
   "version": "2.7.6"
  }
 },
 "nbformat": 4,
 "nbformat_minor": 0
}
